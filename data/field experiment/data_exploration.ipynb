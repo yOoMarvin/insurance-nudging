{
 "cells": [
  {
   "cell_type": "markdown",
   "metadata": {},
   "source": [
    "# Online Field Experiment"
   ]
  },
  {
   "cell_type": "markdown",
   "metadata": {},
   "source": [
    "This Jupyter Notebook presents essential data exploration and evaluation. The corresponding experiment studies the effect of _salience_ informational nudges on the user experience, as well as the chosen tariff option for an online insurance product. In comparison to the pretest, **additional user data** was captured, namely: gender, family status, and housing situation. The **feedback scale** was adapted with values ranging from 1 to 7. The value 0 indicates the closing of the feedback survey without providing value.\n",
    "\n",
    "The online field experiment was executed between 21.12.2019 and 31.12.2019. Traffic was generated via Facebook Advertisement.\n",
    "\n",
    "In total, 11.656 users received the advertisement in _facebook_ applications during that period of time. This includes _Instagram_, _Facebook_ (mobile and desktop version), as well as the _Facebook Messenger_. The complete dataset includes customer behavior data from 328 users that visited the site. Those 328 users have made at least one interaction with the site.\n",
    "\n",
    "Out of those 328 activities, 221 users provided feedback. Additionally, 221 users have chosen an option.\n",
    "\n",
    "114 activities resulted in a conversion, which results in a conversion rate of 34,75%. In this case, conversion means that the user would be interested in further updates of the service and products. The conversion was the last click that was tracked on the site."
   ]
  },
  {
   "cell_type": "markdown",
   "metadata": {},
   "source": [
    "## Setup"
   ]
  },
  {
   "cell_type": "code",
   "execution_count": 1,
   "metadata": {},
   "outputs": [],
   "source": [
    "# import the libraries\n",
    "import pandas as pd\n",
    "import matplotlib.pyplot as plt\n",
    "import seaborn as sns\n",
    "from pandas.io.json import json_normalize"
   ]
  },
  {
   "cell_type": "code",
   "execution_count": 5,
   "metadata": {
    "scrolled": false
   },
   "outputs": [],
   "source": [
    "# import the data\n",
    "firestore_data = pd.read_json(\"./firestore.json\")\n",
    "df = firestore_data\n",
    "\n",
    "# import prepared data with only numeric values. Needed for calculations\n",
    "df_numeric = pd.read_json(\"./firestore_numbers.json\")\n",
    "\n",
    "# split datasets into nudge and no nudge for better descriptions\n",
    "df_nudge = df[df.nudge == 1]\n",
    "df_neutral = df[df.nudge == 0]\n",
    "\n",
    "# sort dataframe by date\n",
    "df = df.sort_values(by=['created'])\n",
    "\n",
    "# print first five rows\n",
    "df.head(5)\n",
    "\n",
    "# export json data as csv for better overview\n",
    "df.to_csv('./data.csv', encoding='utf-8')"
   ]
  },
  {
   "cell_type": "markdown",
   "metadata": {},
   "source": [
    "# Demographics\n",
    "In comparison to the pre-study, the final experiment includes no post-survey data. Instead, additional data was captured during the customer journey. This data includes information on gender, housing situation, and family status.\n",
    "\n",
    "Since 70 users left the site without providing all necessary data, only 258 activities in the dataset include the complete demographic information. \n",
    "\n",
    "It is important to note that the capturing of data has happened directly after the interaction. That means a user who clicked on a particular gender value and left the page is represented with a value for gender, but no values for family and housing situation."
   ]
  },
  {
   "cell_type": "code",
   "execution_count": 13,
   "metadata": {},
   "outputs": [
    {
     "data": {
      "text/plain": [
       "70"
      ]
     },
     "execution_count": 13,
     "metadata": {},
     "output_type": "execute_result"
    }
   ],
   "source": [
    "# Users that left before providing data\n",
    "df_users_no_data = df[(df.gender.isnull()) & (df.family.isnull()) & (df.housing.isnull())]\n",
    "\n",
    "len(df_users_no_data)"
   ]
  },
  {
   "cell_type": "markdown",
   "metadata": {},
   "source": [
    "## Gender"
   ]
  },
  {
   "cell_type": "code",
   "execution_count": 35,
   "metadata": {},
   "outputs": [
    {
     "data": {
      "text/plain": [
       "male       128\n",
       "female     121\n",
       "diverse      9\n",
       "Name: gender, dtype: int64"
      ]
     },
     "execution_count": 35,
     "metadata": {},
     "output_type": "execute_result"
    }
   ],
   "source": [
    "df.gender.value_counts()"
   ]
  },
  {
   "cell_type": "code",
   "execution_count": 5,
   "metadata": {
    "scrolled": false
   },
   "outputs": [
    {
     "data": {
      "image/png": "[encoded data removed]",
      "text/plain": [
       "<Figure size 432x288 with 1 Axes>"
      ]
     },
     "metadata": {},
     "output_type": "display_data"
    }
   ],
   "source": [
    "# Data to plot\n",
    "labels = 'Male', 'Female', 'Diverse'\n",
    "sizes = [128, 121, 9]\n",
    "\n",
    "# Plot\n",
    "plt.pie(sizes, labels=labels,autopct='%1.1f%%', shadow=True, startangle=140)\n",
    "\n",
    "plt.axis('equal')\n",
    "plt.show()"
   ]
  },
  {
   "cell_type": "markdown",
   "metadata": {},
   "source": [
    "## Family Status"
   ]
  },
  {
   "cell_type": "code",
   "execution_count": 12,
   "metadata": {},
   "outputs": [
    {
     "data": {
      "text/plain": [
       "single    148\n",
       "family    110\n",
       "Name: family, dtype: int64"
      ]
     },
     "execution_count": 12,
     "metadata": {},
     "output_type": "execute_result"
    }
   ],
   "source": [
    "df.family.value_counts()"
   ]
  },
  {
   "cell_type": "code",
   "execution_count": 13,
   "metadata": {
    "scrolled": true
   },
   "outputs": [
    {
     "data": {
      "image/png": "[encoded data removed]",
      "text/plain": [
       "<Figure size 432x288 with 1 Axes>"
      ]
     },
     "metadata": {},
     "output_type": "display_data"
    }
   ],
   "source": [
    "# Data to plot\n",
    "labels = 'Single', 'Family'\n",
    "sizes = [148, 110]\n",
    "\n",
    "# Plot\n",
    "plt.pie(sizes, labels=labels,autopct='%1.1f%%', shadow=True, startangle=140)\n",
    "\n",
    "plt.axis('equal')\n",
    "plt.show()"
   ]
  },
  {
   "cell_type": "markdown",
   "metadata": {},
   "source": [
    "## Housing Situation"
   ]
  },
  {
   "cell_type": "code",
   "execution_count": 14,
   "metadata": {},
   "outputs": [
    {
     "data": {
      "text/plain": [
       "rent        163\n",
       "property     95\n",
       "Name: housing, dtype: int64"
      ]
     },
     "execution_count": 14,
     "metadata": {},
     "output_type": "execute_result"
    }
   ],
   "source": [
    "df.housing.value_counts()"
   ]
  },
  {
   "cell_type": "code",
   "execution_count": 15,
   "metadata": {
    "scrolled": false
   },
   "outputs": [
    {
     "data": {
      "image/png": "[encoded data removed]",
      "text/plain": [
       "<Figure size 432x288 with 1 Axes>"
      ]
     },
     "metadata": {},
     "output_type": "display_data"
    }
   ],
   "source": [
    "# Data to plot\n",
    "labels = 'Rent', 'Property'\n",
    "sizes = [163, 95]\n",
    "\n",
    "# Plot\n",
    "plt.pie(sizes, labels=labels,autopct='%1.1f%%', shadow=True, startangle=140)\n",
    "\n",
    "plt.axis('equal')\n",
    "plt.show()"
   ]
  },
  {
   "cell_type": "markdown",
   "metadata": {},
   "source": [
    "# General Data Description"
   ]
  },
  {
   "cell_type": "markdown",
   "metadata": {},
   "source": [
    "### Dataset Description\n",
    "The dataset includes 328 entries of users during the timespan of the field experiment. All those users have made at least on interaction with the site. Since the customer journey includes several distinct steps, data was captured on each site. This shows how many users completed the process or canceled before a conversion."
   ]
  },
  {
   "cell_type": "code",
   "execution_count": 38,
   "metadata": {},
   "outputs": [
    {
     "data": {
      "text/plain": [
       "328"
      ]
     },
     "execution_count": 38,
     "metadata": {},
     "output_type": "execute_result"
    }
   ],
   "source": [
    "len(df)"
   ]
  },
  {
   "cell_type": "markdown",
   "metadata": {},
   "source": [
    "#### User Bevior"
   ]
  },
  {
   "cell_type": "markdown",
   "metadata": {},
   "source": [
    "74 users left the site before providing data. Out of those 74 users, 4 users provided some data and left the side. 70 users provided no data at all and left the site. Those 74 users did not see the tariff options and therefore made no choice. "
   ]
  },
  {
   "cell_type": "code",
   "execution_count": 14,
   "metadata": {},
   "outputs": [
    {
     "data": {
      "text/plain": [
       "74"
      ]
     },
     "execution_count": 14,
     "metadata": {},
     "output_type": "execute_result"
    }
   ],
   "source": [
    "# Users that left before providing data\n",
    "df_users_no_data = df[df.inputToChoice == False]\n",
    "\n",
    "len(df_users_no_data)"
   ]
  },
  {
   "cell_type": "markdown",
   "metadata": {},
   "source": [
    "37 users left the site after the data input. Those users did not make a choice. This includes 20 users with no nudge, that left during the choice and 17 users that left the page while seeing the designed nudge."
   ]
  },
  {
   "cell_type": "code",
   "execution_count": 15,
   "metadata": {},
   "outputs": [
    {
     "name": "stdout",
     "output_type": "stream",
     "text": [
      "Users that left during the choice process:  37\n",
      " \n",
      "Nudge split on users that left during the choice process:\n"
     ]
    },
    {
     "data": {
      "text/plain": [
       "0    20\n",
       "1    17\n",
       "Name: nudge, dtype: int64"
      ]
     },
     "execution_count": 15,
     "metadata": {},
     "output_type": "execute_result"
    }
   ],
   "source": [
    "# Users that left during choice, and provided no data\n",
    "df_users_left_choice_total = df[(df.choiceToSubmit == False)]\n",
    "\n",
    "# Users that left during choice, but provided data\n",
    "df_users_left_choice = df[(df.inputToChoice == True) &(df.choiceToSubmit == False)]\n",
    "print(\"Users that left during the choice process: \", len(df_users_left_choice))\n",
    "print(\" \")\n",
    "print(\"Nudge split on users that left during the choice process:\")\n",
    "df_users_left_choice.nudge.value_counts()\n"
   ]
  },
  {
   "cell_type": "code",
   "execution_count": 16,
   "metadata": {},
   "outputs": [
    {
     "name": "stdout",
     "output_type": "stream",
     "text": [
      "221  users made a choice.\n"
     ]
    }
   ],
   "source": [
    "# Users with choice\n",
    "df_users_with_choice = df[df.option.notnull()]\n",
    "\n",
    "print(len(df_users_with_choice),\" users made a choice.\")"
   ]
  },
  {
   "cell_type": "markdown",
   "metadata": {},
   "source": [
    "Since the feedback survey has happened directly after the choice and was a low effort choice that has asked for the current emotional state, no user canceled the question and left the site with a choice, but no feedback.\n",
    "\n",
    "Overall, 221 users provided feedback."
   ]
  },
  {
   "cell_type": "code",
   "execution_count": 17,
   "metadata": {},
   "outputs": [
    {
     "name": "stdout",
     "output_type": "stream",
     "text": [
      "0\n",
      "221\n"
     ]
    }
   ],
   "source": [
    "# Users that provided no feedback\n",
    "df_users_no_feedback = df[(df.option.notnull()) & (df.feedback.isnull())]\n",
    "\n",
    "# Users that provided feedback\n",
    "df_users_with_feedback = df[df.feedback.notnull()]\n",
    "\n",
    "print(len(df_users_no_feedback))\n",
    "print(len(df_users_with_feedback))\n"
   ]
  },
  {
   "cell_type": "markdown",
   "metadata": {},
   "source": [
    "114 activities resulted in a conversion, which results in a conversion rate of 34,75%. In this case, conversion means that the user would be interested in further updates of the service and products. The conversion was the last click that was tracked on the site."
   ]
  },
  {
   "cell_type": "code",
   "execution_count": 18,
   "metadata": {},
   "outputs": [
    {
     "name": "stdout",
     "output_type": "stream",
     "text": [
      "114\n"
     ]
    }
   ],
   "source": [
    "# Users with conversion\n",
    "df_users_with_conversion = df[df.conversion == True]\n",
    "\n",
    "print(len(df_users_with_conversion))"
   ]
  },
  {
   "cell_type": "code",
   "execution_count": 37,
   "metadata": {},
   "outputs": [
    {
     "data": {
      "image/png": "[encoded data removed]",
      "text/plain": [
       "<Figure size 864x432 with 1 Axes>"
      ]
     },
     "metadata": {},
     "output_type": "display_data"
    }
   ],
   "source": [
    "# Barchart with progress numbers\n",
    "sns.set(style=\"whitegrid\")\n",
    "sns.set(rc={'figure.figsize':(12,6)})\n",
    "\n",
    "d1 =['Progress','Users']  #have taken count as users\n",
    "data= [\n",
    "        ['Visited Site',len(df)],\n",
    "        ['Provided Data',len(df)-len(df_users_no_data)],\n",
    "        ['Made Choice',len(df_users_with_choice)],\n",
    "        ['Provided Feedback',len(df_users_with_feedback)],\n",
    "        ['Conversion',len(df_users_with_conversion)]\n",
    "       ]\n",
    "df_progress =pd.DataFrame(data,columns=d1)\n",
    "\n",
    "sns.barplot(x=\"Progress\",y=\"Users\", data=df_progress)\n",
    "\n",
    "plt.show()"
   ]
  },
  {
   "cell_type": "markdown",
   "metadata": {},
   "source": [
    "### Treatment Split and Terminations\n",
    "The experiment aims for a 50/50 split of the treatment effect (nudge display). However, since 107 of the users left the website before the capturing of the feedback, the balance between treatment and no treatment is not truly 50/50 in the dataset.\n",
    "\n",
    "The dataset includes the feedback of 111 users that visited the page with the nudge and 110 users who visited the website without a nudge."
   ]
  },
  {
   "cell_type": "code",
   "execution_count": 45,
   "metadata": {},
   "outputs": [
    {
     "data": {
      "text/plain": [
       "0    111\n",
       "1    110\n",
       "Name: nudge, dtype: int64"
      ]
     },
     "execution_count": 45,
     "metadata": {},
     "output_type": "execute_result"
    }
   ],
   "source": [
    "# Check the nudge split of the users who provided feedback\n",
    "with_feedback = df[df.feedback.notnull()]\n",
    "with_feedback.nudge.value_counts()"
   ]
  },
  {
   "cell_type": "markdown",
   "metadata": {},
   "source": [
    "### Chosen Tariff Option\n",
    "In terms of the chosen tariff option, the _comfort_ option is the most popular. 58 of the users favored the minimal amount of security. Interestingly, the second most popular option is the _top_ option. This option is the most expensive one and covers almost every situation.\n",
    "\n",
    "Furthermore, users that received the nudge tend to choose one of the higher coverage options."
   ]
  },
  {
   "cell_type": "code",
   "execution_count": 3,
   "metadata": {},
   "outputs": [
    {
     "data": {
      "text/plain": [
       "comfort    86\n",
       "top        77\n",
       "basic      58\n",
       "Name: option, dtype: int64"
      ]
     },
     "execution_count": 3,
     "metadata": {},
     "output_type": "execute_result"
    }
   ],
   "source": [
    "df.option.value_counts()"
   ]
  },
  {
   "cell_type": "code",
   "execution_count": 38,
   "metadata": {},
   "outputs": [
    {
     "data": {
      "image/png": "[encoded data removed]",
      "text/plain": [
       "<Figure size 864x432 with 1 Axes>"
      ]
     },
     "metadata": {},
     "output_type": "display_data"
    }
   ],
   "source": [
    "# Add barchart with chosen tariff options\n",
    "sns.set(style=\"whitegrid\")\n",
    "\n",
    "# Draw a nested barplot to choice options based on nudge\n",
    "g = sns.countplot(x=\"option\",data=df, order = df['option'].value_counts().index)\n"
   ]
  },
  {
   "cell_type": "markdown",
   "metadata": {},
   "source": [
    "### User Experience and Feedback\n",
    "Overall, most of the users have a neutral emotion towards the website. The provided feedback is nearly distributed normally. Besides the effect of the nudge, one primary reason could be the visual appealing of the site. In comparison to other insurance company, the information and focus was very clear and straightforward, which could lead to an overall, more satisfying user experience. \n",
    "\n",
    "_Feedback scale:_  \n",
    "**sad**: 1-3  \n",
    "**neutral**: 4  \n",
    "**happy**: 5-7"
   ]
  },
  {
   "cell_type": "code",
   "execution_count": 72,
   "metadata": {},
   "outputs": [
    {
     "data": {
      "text/plain": [
       "count    221.000000\n",
       "mean       4.217195\n",
       "std        1.397359\n",
       "min        1.000000\n",
       "25%        3.000000\n",
       "50%        4.000000\n",
       "75%        5.000000\n",
       "max        7.000000\n",
       "Name: feedback, dtype: float64"
      ]
     },
     "execution_count": 72,
     "metadata": {},
     "output_type": "execute_result"
    }
   ],
   "source": [
    "df.feedback.describe()"
   ]
  },
  {
   "cell_type": "code",
   "execution_count": 73,
   "metadata": {},
   "outputs": [
    {
     "data": {
      "text/plain": [
       "5.0    60\n",
       "4.0    58\n",
       "3.0    34\n",
       "6.0    33\n",
       "2.0    22\n",
       "1.0     7\n",
       "7.0     7\n",
       "Name: feedback, dtype: int64"
      ]
     },
     "execution_count": 73,
     "metadata": {},
     "output_type": "execute_result"
    }
   ],
   "source": [
    "# most chosen feedback, least chose, average\n",
    "df.feedback.value_counts()"
   ]
  },
  {
   "cell_type": "code",
   "execution_count": 39,
   "metadata": {},
   "outputs": [
    {
     "data": {
      "image/png": "[encoded data removed]",
      "text/plain": [
       "<Figure size 864x432 with 1 Axes>"
      ]
     },
     "metadata": {},
     "output_type": "display_data"
    }
   ],
   "source": [
    "# Add barchart with feedback\n",
    "sns.set(style=\"whitegrid\")\n",
    "\n",
    "# Draw a nested barplot to feedback based on nudge\n",
    "g = sns.countplot(x=\"feedback\",data=df)\n"
   ]
  },
  {
   "cell_type": "markdown",
   "metadata": {},
   "source": [
    "# Effect of Nudging on Customer Experience (feedback)"
   ]
  },
  {
   "cell_type": "markdown",
   "metadata": {},
   "source": [
    "### Distribution of Data\n",
    "If one looks at the distribution of the data concerning the treatment, no significant differences are noticeable. The distribution of different feedback values is almost balanced. The bar plot below shows this observation in a visual way."
   ]
  },
  {
   "cell_type": "code",
   "execution_count": 9,
   "metadata": {},
   "outputs": [
    {
     "data": {
      "text/plain": [
       "nudge  feedback\n",
       "0      4.0         32\n",
       "       5.0         31\n",
       "       3.0         16\n",
       "       6.0         15\n",
       "       2.0         12\n",
       "       1.0          4\n",
       "       7.0          1\n",
       "1      5.0         29\n",
       "       4.0         26\n",
       "       3.0         18\n",
       "       6.0         18\n",
       "       2.0         10\n",
       "       7.0          6\n",
       "       1.0          3\n",
       "Name: feedback, dtype: int64"
      ]
     },
     "execution_count": 9,
     "metadata": {},
     "output_type": "execute_result"
    }
   ],
   "source": [
    "# group data by nudge\n",
    "nudge_group = df.groupby(\"nudge\")\n",
    "nudge_group.feedback.value_counts()"
   ]
  },
  {
   "cell_type": "code",
   "execution_count": 10,
   "metadata": {},
   "outputs": [
    {
     "data": {
      "text/html": [
       "<div>\n",
       "<style scoped>\n",
       "    .dataframe tbody tr th:only-of-type {\n",
       "        vertical-align: middle;\n",
       "    }\n",
       "\n",
       "    .dataframe tbody tr th {\n",
       "        vertical-align: top;\n",
       "    }\n",
       "\n",
       "    .dataframe thead tr th {\n",
       "        text-align: left;\n",
       "    }\n",
       "\n",
       "    .dataframe thead tr:last-of-type th {\n",
       "        text-align: right;\n",
       "    }\n",
       "</style>\n",
       "<table border=\"1\" class=\"dataframe\">\n",
       "  <thead>\n",
       "    <tr>\n",
       "      <th></th>\n",
       "      <th colspan=\"8\" halign=\"left\">feedback</th>\n",
       "    </tr>\n",
       "    <tr>\n",
       "      <th></th>\n",
       "      <th>count</th>\n",
       "      <th>mean</th>\n",
       "      <th>std</th>\n",
       "      <th>min</th>\n",
       "      <th>25%</th>\n",
       "      <th>50%</th>\n",
       "      <th>75%</th>\n",
       "      <th>max</th>\n",
       "    </tr>\n",
       "    <tr>\n",
       "      <th>nudge</th>\n",
       "      <th></th>\n",
       "      <th></th>\n",
       "      <th></th>\n",
       "      <th></th>\n",
       "      <th></th>\n",
       "      <th></th>\n",
       "      <th></th>\n",
       "      <th></th>\n",
       "    </tr>\n",
       "  </thead>\n",
       "  <tbody>\n",
       "    <tr>\n",
       "      <td>0</td>\n",
       "      <td>111.0</td>\n",
       "      <td>4.108108</td>\n",
       "      <td>1.344019</td>\n",
       "      <td>1.0</td>\n",
       "      <td>3.0</td>\n",
       "      <td>4.0</td>\n",
       "      <td>5.0</td>\n",
       "      <td>7.0</td>\n",
       "    </tr>\n",
       "    <tr>\n",
       "      <td>1</td>\n",
       "      <td>110.0</td>\n",
       "      <td>4.327273</td>\n",
       "      <td>1.446978</td>\n",
       "      <td>1.0</td>\n",
       "      <td>3.0</td>\n",
       "      <td>4.0</td>\n",
       "      <td>5.0</td>\n",
       "      <td>7.0</td>\n",
       "    </tr>\n",
       "  </tbody>\n",
       "</table>\n",
       "</div>"
      ],
      "text/plain": [
       "      feedback                                             \n",
       "         count      mean       std  min  25%  50%  75%  max\n",
       "nudge                                                      \n",
       "0        111.0  4.108108  1.344019  1.0  3.0  4.0  5.0  7.0\n",
       "1        110.0  4.327273  1.446978  1.0  3.0  4.0  5.0  7.0"
      ]
     },
     "execution_count": 10,
     "metadata": {},
     "output_type": "execute_result"
    }
   ],
   "source": [
    "nudge_group.describe()"
   ]
  },
  {
   "cell_type": "code",
   "execution_count": 23,
   "metadata": {},
   "outputs": [
    {
     "data": {
      "image/png": "[encoded data removed]",
      "text/plain": [
       "<Figure size 864x432 with 1 Axes>"
      ]
     },
     "metadata": {},
     "output_type": "display_data"
    }
   ],
   "source": [
    "# swarmplot\n",
    "#plt.figure(figsize=(12, 8))\n",
    "#sns.swarmplot(x=df['nudge'], y=df['feedback'])\n",
    "\n",
    "# Feedback distribution with split on nudge data\n",
    "sns.set(style=\"whitegrid\")\n",
    "\n",
    "# Draw a nested barplot to feedback based on nudge\n",
    "g = sns.countplot(x=\"feedback\", hue=\"nudge\",data=df,)\n"
   ]
  },
  {
   "cell_type": "markdown",
   "metadata": {},
   "source": [
    "### Average Treatment Effect"
   ]
  },
  {
   "cell_type": "code",
   "execution_count": 76,
   "metadata": {},
   "outputs": [
    {
     "name": "stdout",
     "output_type": "stream",
     "text": [
      "Average Treatment Effect: 0.2192\n"
     ]
    }
   ],
   "source": [
    "# ATE\n",
    "\n",
    "# Users that provided feedback\n",
    "df_users_with_feedback = df[df.feedback != 0]\n",
    "\n",
    "nudge_group = df_users_with_feedback[df_users_with_feedback.nudge == 1].feedback\n",
    "no_nudge_group = df_users_with_feedback[df_users_with_feedback.nudge == 0].feedback\n",
    "\n",
    "mean_nudge =nudge_group.mean()\n",
    "mean_no_nudge = no_nudge_group.mean()\n",
    "\n",
    "ate = mean_nudge - mean_no_nudge\n",
    "print(\"Average Treatment Effect: %.4f\" % ate)"
   ]
  },
  {
   "cell_type": "markdown",
   "metadata": {},
   "source": [
    "The negative ATE shows a small positive effect on the user experience if a high threat nudge is displayed. Interestingly this positive effect is very low and, therefore, not significant if one observes the complete user set."
   ]
  },
  {
   "cell_type": "markdown",
   "metadata": {},
   "source": [
    "### Mann-Withney-U Test\n",
    "Since the values in the dataset are not completely normally distributed, a Mann-Withney-U Test is suitable to study the effect of the treatment. A Mann-Whitney-U Test is a nonparametric test of the null hypothesis that it is equally likely that a randomly selected value from one population will be less than or greater than a randomly selected value from a second population. \n",
    "\n",
    "In this case, the null hypothesis H0 assumes that the nudge will not affect the user experience."
   ]
  },
  {
   "cell_type": "code",
   "execution_count": 44,
   "metadata": {},
   "outputs": [
    {
     "name": "stdout",
     "output_type": "stream",
     "text": [
      "Statistics=12395.500, p=0.110\n",
      "Same distribution (fail to reject H0)\n"
     ]
    }
   ],
   "source": [
    "# Non-parametric Mann Whitney U Test\n",
    "import numpy as np\n",
    "import scipy.stats as stats\n",
    "from scipy.stats import mannwhitneyu\n",
    "\n",
    "nudge = df[df.nudge == 1].feedback.array\n",
    "no_nudge = df[df.nudge == 0].feedback.array\n",
    "\n",
    "# compare samples\n",
    "stat, p = mannwhitneyu(nudge, no_nudge)\n",
    "print('Statistics=%.3f, p=%.3f' % (stat, p))\n",
    "# interpret\n",
    "alpha = 0.05\n",
    "if p > alpha:\n",
    "\tprint('Same distribution (fail to reject H0)')\n",
    "else:\n",
    "\tprint('Different distribution (reject H0)')\n"
   ]
  },
  {
   "cell_type": "markdown",
   "metadata": {},
   "source": [
    "Since the Mann-Whitney-U test shows a same distribution in both groups, **there is no significant effect of the nudge on the overall user experience**."
   ]
  },
  {
   "cell_type": "markdown",
   "metadata": {},
   "source": [
    "## Analysis of Subsets"
   ]
  },
  {
   "cell_type": "markdown",
   "metadata": {},
   "source": [
    "### Family Status\n",
    "This section includes the analysis of the treatment on the user experience with regards to the family status of consumers."
   ]
  },
  {
   "cell_type": "code",
   "execution_count": 25,
   "metadata": {},
   "outputs": [
    {
     "data": {
      "text/plain": [
       "nudge  family  feedback\n",
       "0      family  4.0         17\n",
       "               5.0          9\n",
       "               6.0          8\n",
       "               2.0          6\n",
       "               3.0          6\n",
       "               1.0          3\n",
       "       single  5.0         22\n",
       "               4.0         15\n",
       "               3.0         10\n",
       "               6.0          7\n",
       "               2.0          6\n",
       "               1.0          1\n",
       "               7.0          1\n",
       "1      family  5.0         16\n",
       "               6.0         15\n",
       "               4.0         12\n",
       "               7.0          5\n",
       "               3.0          4\n",
       "               2.0          2\n",
       "       single  3.0         14\n",
       "               4.0         14\n",
       "               5.0         13\n",
       "               2.0          8\n",
       "               1.0          3\n",
       "               6.0          3\n",
       "               7.0          1\n",
       "Name: feedback, dtype: int64"
      ]
     },
     "execution_count": 25,
     "metadata": {},
     "output_type": "execute_result"
    }
   ],
   "source": [
    "# group data by nudge\n",
    "family_nudge_group = df.groupby([\"nudge\", \"family\"])\n",
    "family_nudge_group.feedback.value_counts()"
   ]
  },
  {
   "cell_type": "code",
   "execution_count": 46,
   "metadata": {},
   "outputs": [
    {
     "data": {
      "text/plain": [
       "count    103.000000\n",
       "mean       4.495146\n",
       "std        1.420258\n",
       "min        1.000000\n",
       "25%        4.000000\n",
       "50%        5.000000\n",
       "75%        6.000000\n",
       "max        7.000000\n",
       "Name: feedback, dtype: float64"
      ]
     },
     "execution_count": 46,
     "metadata": {},
     "output_type": "execute_result"
    }
   ],
   "source": [
    "df[df.family == 'family'].feedback.describe()"
   ]
  },
  {
   "cell_type": "code",
   "execution_count": 47,
   "metadata": {},
   "outputs": [
    {
     "data": {
      "text/plain": [
       "count    118.000000\n",
       "mean       3.974576\n",
       "std        1.336291\n",
       "min        1.000000\n",
       "25%        3.000000\n",
       "50%        4.000000\n",
       "75%        5.000000\n",
       "max        7.000000\n",
       "Name: feedback, dtype: float64"
      ]
     },
     "execution_count": 47,
     "metadata": {},
     "output_type": "execute_result"
    }
   ],
   "source": [
    "df[df.family == 'single'].feedback.describe()"
   ]
  },
  {
   "cell_type": "code",
   "execution_count": 26,
   "metadata": {},
   "outputs": [
    {
     "data": {
      "text/html": [
       "<div>\n",
       "<style scoped>\n",
       "    .dataframe tbody tr th:only-of-type {\n",
       "        vertical-align: middle;\n",
       "    }\n",
       "\n",
       "    .dataframe tbody tr th {\n",
       "        vertical-align: top;\n",
       "    }\n",
       "\n",
       "    .dataframe thead tr th {\n",
       "        text-align: left;\n",
       "    }\n",
       "\n",
       "    .dataframe thead tr:last-of-type th {\n",
       "        text-align: right;\n",
       "    }\n",
       "</style>\n",
       "<table border=\"1\" class=\"dataframe\">\n",
       "  <thead>\n",
       "    <tr>\n",
       "      <th></th>\n",
       "      <th></th>\n",
       "      <th colspan=\"8\" halign=\"left\">feedback</th>\n",
       "    </tr>\n",
       "    <tr>\n",
       "      <th></th>\n",
       "      <th></th>\n",
       "      <th>count</th>\n",
       "      <th>mean</th>\n",
       "      <th>std</th>\n",
       "      <th>min</th>\n",
       "      <th>25%</th>\n",
       "      <th>50%</th>\n",
       "      <th>75%</th>\n",
       "      <th>max</th>\n",
       "    </tr>\n",
       "    <tr>\n",
       "      <th>nudge</th>\n",
       "      <th>family</th>\n",
       "      <th></th>\n",
       "      <th></th>\n",
       "      <th></th>\n",
       "      <th></th>\n",
       "      <th></th>\n",
       "      <th></th>\n",
       "      <th></th>\n",
       "      <th></th>\n",
       "    </tr>\n",
       "  </thead>\n",
       "  <tbody>\n",
       "    <tr>\n",
       "      <td rowspan=\"2\" valign=\"top\">0</td>\n",
       "      <td>family</td>\n",
       "      <td>49.0</td>\n",
       "      <td>3.959184</td>\n",
       "      <td>1.428274</td>\n",
       "      <td>1.0</td>\n",
       "      <td>3.0</td>\n",
       "      <td>4.0</td>\n",
       "      <td>5.0</td>\n",
       "      <td>6.0</td>\n",
       "    </tr>\n",
       "    <tr>\n",
       "      <td>single</td>\n",
       "      <td>62.0</td>\n",
       "      <td>4.225806</td>\n",
       "      <td>1.272913</td>\n",
       "      <td>1.0</td>\n",
       "      <td>3.0</td>\n",
       "      <td>4.0</td>\n",
       "      <td>5.0</td>\n",
       "      <td>7.0</td>\n",
       "    </tr>\n",
       "    <tr>\n",
       "      <td rowspan=\"2\" valign=\"top\">1</td>\n",
       "      <td>family</td>\n",
       "      <td>54.0</td>\n",
       "      <td>4.981481</td>\n",
       "      <td>1.236104</td>\n",
       "      <td>2.0</td>\n",
       "      <td>4.0</td>\n",
       "      <td>5.0</td>\n",
       "      <td>6.0</td>\n",
       "      <td>7.0</td>\n",
       "    </tr>\n",
       "    <tr>\n",
       "      <td>single</td>\n",
       "      <td>56.0</td>\n",
       "      <td>3.696429</td>\n",
       "      <td>1.360744</td>\n",
       "      <td>1.0</td>\n",
       "      <td>3.0</td>\n",
       "      <td>4.0</td>\n",
       "      <td>5.0</td>\n",
       "      <td>7.0</td>\n",
       "    </tr>\n",
       "  </tbody>\n",
       "</table>\n",
       "</div>"
      ],
      "text/plain": [
       "             feedback                                             \n",
       "                count      mean       std  min  25%  50%  75%  max\n",
       "nudge family                                                      \n",
       "0     family     49.0  3.959184  1.428274  1.0  3.0  4.0  5.0  6.0\n",
       "      single     62.0  4.225806  1.272913  1.0  3.0  4.0  5.0  7.0\n",
       "1     family     54.0  4.981481  1.236104  2.0  4.0  5.0  6.0  7.0\n",
       "      single     56.0  3.696429  1.360744  1.0  3.0  4.0  5.0  7.0"
      ]
     },
     "execution_count": 26,
     "metadata": {},
     "output_type": "execute_result"
    }
   ],
   "source": [
    "family_nudge_group.describe()"
   ]
  },
  {
   "cell_type": "code",
   "execution_count": 77,
   "metadata": {},
   "outputs": [
    {
     "data": {
      "image/png": "[encoded data removed]",
      "text/plain": [
       "<Figure size 864x432 with 1 Axes>"
      ]
     },
     "metadata": {},
     "output_type": "display_data"
    }
   ],
   "source": [
    "# Barplot with feedback for families\n",
    "\n",
    "# Feedback distribution with split on nudge data\n",
    "sns.set(style=\"whitegrid\")\n",
    "\n",
    "# Draw a nested barplot to feedback based on nudge\n",
    "g = sns.countplot(x=\"feedback\", hue=\"nudge\",data=df[df.family=='family'],)\n"
   ]
  },
  {
   "cell_type": "code",
   "execution_count": 78,
   "metadata": {},
   "outputs": [
    {
     "data": {
      "image/png": "[encoded data removed]",
      "text/plain": [
       "<Figure size 864x432 with 1 Axes>"
      ]
     },
     "metadata": {},
     "output_type": "display_data"
    }
   ],
   "source": [
    "# Barplot with feedback for singles\n",
    "\n",
    "# Feedback distribution with split on nudge data\n",
    "sns.set(style=\"whitegrid\")\n",
    "\n",
    "# Draw a nested barplot to feedback based on nudge\n",
    "g = sns.countplot(x=\"feedback\", hue=\"nudge\",data=df[df.family=='single'],)\n"
   ]
  },
  {
   "cell_type": "markdown",
   "metadata": {},
   "source": [
    "#### Average Treatment Effect"
   ]
  },
  {
   "cell_type": "code",
   "execution_count": 50,
   "metadata": {},
   "outputs": [
    {
     "name": "stdout",
     "output_type": "stream",
     "text": [
      "Average Treatment Effect: 1.0223\n"
     ]
    }
   ],
   "source": [
    "# ATE\n",
    "\n",
    "# Users that provided feedback and have family status: family\n",
    "df_families_with_feedback = df[(df.feedback != 0) & (df.family == 'family')]\n",
    "\n",
    "nudge_group = df_families_with_feedback[df_families_with_feedback.nudge == 1].feedback\n",
    "no_nudge_group = df_families_with_feedback[df_families_with_feedback.nudge == 0].feedback\n",
    "\n",
    "mean_nudge =nudge_group.mean()\n",
    "mean_no_nudge = no_nudge_group.mean()\n",
    "\n",
    "ate = mean_nudge - mean_no_nudge\n",
    "print(\"Average Treatment Effect: %.4f\" % ate)"
   ]
  },
  {
   "cell_type": "markdown",
   "metadata": {},
   "source": [
    "In the analysis for this subset the ATE shows a clear positive effect on the user experience if a high threat nudge is displayed. **This shows a significant effect for users that choose the insurance product as a family coverage.**"
   ]
  },
  {
   "cell_type": "markdown",
   "metadata": {},
   "source": [
    "### Mann-Whitney U Test"
   ]
  },
  {
   "cell_type": "code",
   "execution_count": 51,
   "metadata": {
    "scrolled": false
   },
   "outputs": [
    {
     "name": "stdout",
     "output_type": "stream",
     "text": [
      "Statistics=1022.00000, p=0.00144\n",
      "Different distribution (reject H0)\n"
     ]
    }
   ],
   "source": [
    "# Non-parametric Mann Whitney U Test\n",
    "import numpy as np\n",
    "import scipy.stats as stats\n",
    "from scipy.stats import mannwhitneyu\n",
    "\n",
    "nudge_family = df[(df.nudge == 1) & (df.family == 'family')].feedback.array\n",
    "no_nudge_family = df[(df.nudge == 0) & (df.family == 'family')].feedback.array\n",
    "\n",
    "# compare samples\n",
    "stat, p = mannwhitneyu(nudge_family, no_nudge_family)\n",
    "print('Statistics=%.5f, p=%.5f' % (stat, p))\n",
    "# interpret\n",
    "alpha = 0.05\n",
    "if p > alpha:\n",
    "\tprint('Same distribution (fail to reject H0)')\n",
    "else:\n",
    "\tprint('Different distribution (reject H0)')\n"
   ]
  },
  {
   "cell_type": "markdown",
   "metadata": {},
   "source": [
    "Additionally the Mann-Whitney-U test shows another outcome for the family group. Here, the distribution is different which means **there is a significant effect of the nudge on the overall user experience**"
   ]
  },
  {
   "cell_type": "markdown",
   "metadata": {},
   "source": [
    "  "
   ]
  },
  {
   "cell_type": "markdown",
   "metadata": {},
   "source": [
    "  "
   ]
  },
  {
   "cell_type": "markdown",
   "metadata": {},
   "source": [
    "  "
   ]
  },
  {
   "cell_type": "markdown",
   "metadata": {},
   "source": [
    "  "
   ]
  },
  {
   "cell_type": "markdown",
   "metadata": {},
   "source": [
    "  "
   ]
  },
  {
   "cell_type": "markdown",
   "metadata": {},
   "source": [
    "  "
   ]
  },
  {
   "cell_type": "markdown",
   "metadata": {},
   "source": [
    "# Effect of Nudging on Chosen Tariff Option (option)\n",
    "\n",
    "This part includes the analysis of the designed nudge on the chosen tariff option. Since the option feature includes text values, those values are transformed to numbers with a categorical ordering.\n",
    "\n",
    "The mapping is as follows:  \n",
    "_basic_ -> **1**  \n",
    "_comfort_ -> **2**  \n",
    "_top_ -> **3**"
   ]
  },
  {
   "cell_type": "code",
   "execution_count": 27,
   "metadata": {},
   "outputs": [],
   "source": [
    "# mapping of option to ordinal category\n",
    "# not needed when the numeric dataset is used for processing\n",
    "from pandas.api.types import CategoricalDtype\n",
    "\n",
    "ordered_option = ['basic', 'comfort', 'top']\n",
    "df.option = df.option.astype(CategoricalDtype(ordered=True,categories=ordered_option))"
   ]
  },
  {
   "cell_type": "markdown",
   "metadata": {},
   "source": [
    "### Distribution of Data\n",
    "The distribution of the data concerning the treatment, some differences are noticeable. Especially the number of top options are very different. The bar plot below shows this observation in a visual way."
   ]
  },
  {
   "cell_type": "code",
   "execution_count": 28,
   "metadata": {},
   "outputs": [
    {
     "data": {
      "text/plain": [
       "nudge  option \n",
       "0      comfort    46\n",
       "       basic      41\n",
       "       top        24\n",
       "1      top        53\n",
       "       comfort    40\n",
       "       basic      17\n",
       "Name: option, dtype: int64"
      ]
     },
     "execution_count": 28,
     "metadata": {},
     "output_type": "execute_result"
    }
   ],
   "source": [
    "# group data by nudge\n",
    "nudge_group = df.groupby(\"nudge\")\n",
    "nudge_group.option.value_counts()"
   ]
  },
  {
   "cell_type": "code",
   "execution_count": 32,
   "metadata": {},
   "outputs": [
    {
     "data": {
      "image/png": "[encoded data removed]",
      "text/plain": [
       "<Figure size 864x432 with 1 Axes>"
      ]
     },
     "metadata": {},
     "output_type": "display_data"
    }
   ],
   "source": [
    "# Add barchart with split on nudge data\n",
    "sns.set(style=\"whitegrid\")\n",
    "\n",
    "# Draw a nested barplot to choice options based on nudge\n",
    "g = sns.countplot(x=\"option\", hue=\"nudge\",data=df, order = df['option'].value_counts().index)\n"
   ]
  },
  {
   "cell_type": "markdown",
   "metadata": {},
   "source": [
    "### Average Treatment Effect"
   ]
  },
  {
   "cell_type": "code",
   "execution_count": 84,
   "metadata": {},
   "outputs": [
    {
     "name": "stdout",
     "output_type": "stream",
     "text": [
      "Average Treatment Effect: 0.4804\n"
     ]
    }
   ],
   "source": [
    "# ATE\n",
    "\n",
    "# Users with choice\n",
    "df_users_with_choice = df_numeric[df_numeric.option.notnull()]\n",
    "\n",
    "nudge_group = df_users_with_choice[df_users_with_choice.nudge == 1].option\n",
    "no_nudge_group = df_users_with_choice[df_users_with_choice.nudge == 0].option\n",
    "\n",
    "mean_nudge = nudge_group.mean()\n",
    "mean_no_nudge = no_nudge_group.mean()\n",
    "\n",
    "ate = mean_nudge - mean_no_nudge\n",
    "print(\"Average Treatment Effect: %.4f\" % ate)"
   ]
  },
  {
   "cell_type": "markdown",
   "metadata": {},
   "source": [
    "In contrast to the feedback, the treatment shows a positive average effect on the tariff option if a high threat nudge is displayed. Therefore there is a tendency that more expensive options with broader coverage are chosen. Since the numbers are smaller than in the feedback feature, this effect can be seen as **significant**."
   ]
  },
  {
   "cell_type": "markdown",
   "metadata": {},
   "source": [
    "### Mann-Withney-U Test\n",
    "Since the values in the dataset are not completely normally distributed, a Mann-Withney-U Test is suitable to study the effect of the treatment. A Mann-Whitney-U Test is a nonparametric test of the null hypothesis that it is equally likely that a randomly selected value from one population will be less than or greater than a randomly selected value from a second population. \n",
    "\n",
    "In this case, the null hypothesis H0 assumes that the nudge will not affect the tariff option."
   ]
  },
  {
   "cell_type": "code",
   "execution_count": 86,
   "metadata": {},
   "outputs": [
    {
     "name": "stdout",
     "output_type": "stream",
     "text": [
      "Statistics=4054.500, p=0.00000\n",
      "Different distribution (reject H0)\n"
     ]
    }
   ],
   "source": [
    "# Non-parametric Mann Whitney U Test\n",
    "import numpy as np\n",
    "import scipy.stats as stats\n",
    "from scipy.stats import mannwhitneyu\n",
    "\n",
    "# Users with choice\n",
    "df_users_with_choice = df[df.option.notnull()]\n",
    "\n",
    "nudge = df_users_with_choice[df_users_with_choice.nudge == 1].option.array\n",
    "no_nudge = df_users_with_choice[df_users_with_choice.nudge == 0].option.array\n",
    "\n",
    "# compare samples\n",
    "stat, p = mannwhitneyu(nudge, no_nudge)\n",
    "print('Statistics=%.3f, p=%.5f' % (stat, p))\n",
    "# interpret\n",
    "alpha = 0.05\n",
    "if p > alpha:\n",
    "\tprint('Same distribution (fail to reject H0)')\n",
    "else:\n",
    "\tprint('Different distribution (reject H0)')\n"
   ]
  },
  {
   "cell_type": "markdown",
   "metadata": {},
   "source": [
    "Since the test shows a different distribution of values**there is a significant effect of the nudge on the chosen tariff option**"
   ]
  },
  {
   "cell_type": "markdown",
   "metadata": {},
   "source": [
    "## Analysis of Subsets"
   ]
  },
  {
   "cell_type": "markdown",
   "metadata": {},
   "source": [
    "### Family Status\n",
    "This section includes the analysis of the treatment on the chose tariff option with regards to the family status of consumers."
   ]
  },
  {
   "cell_type": "code",
   "execution_count": 92,
   "metadata": {},
   "outputs": [
    {
     "data": {
      "text/plain": [
       "nudge  option   feedback\n",
       "0      basic    4.0         15\n",
       "                5.0         13\n",
       "                3.0          5\n",
       "                6.0          4\n",
       "                2.0          3\n",
       "                1.0          1\n",
       "       comfort  4.0         14\n",
       "                5.0         14\n",
       "                3.0          9\n",
       "                2.0          4\n",
       "                6.0          4\n",
       "                1.0          1\n",
       "       top      6.0          7\n",
       "                2.0          5\n",
       "                5.0          4\n",
       "                4.0          3\n",
       "                1.0          2\n",
       "                3.0          2\n",
       "                7.0          1\n",
       "1      basic    4.0          6\n",
       "                2.0          5\n",
       "                1.0          3\n",
       "                5.0          2\n",
       "                3.0          1\n",
       "       comfort  3.0         14\n",
       "                5.0         14\n",
       "                4.0          8\n",
       "                2.0          2\n",
       "                6.0          2\n",
       "       top      6.0         16\n",
       "                5.0         13\n",
       "                4.0         12\n",
       "                7.0          6\n",
       "                2.0          3\n",
       "                3.0          3\n",
       "Name: feedback, dtype: int64"
      ]
     },
     "execution_count": 92,
     "metadata": {},
     "output_type": "execute_result"
    }
   ],
   "source": [
    "# group data by nudge\n",
    "family_nudge_group = df.groupby([\"nudge\", \"option\"])\n",
    "family_nudge_group.feedback.value_counts()"
   ]
  },
  {
   "cell_type": "code",
   "execution_count": 89,
   "metadata": {},
   "outputs": [
    {
     "data": {
      "text/plain": [
       "count     103\n",
       "unique      3\n",
       "top       top\n",
       "freq       51\n",
       "Name: option, dtype: object"
      ]
     },
     "execution_count": 89,
     "metadata": {},
     "output_type": "execute_result"
    }
   ],
   "source": [
    "df[df.family == 'family'].option.describe()"
   ]
  },
  {
   "cell_type": "code",
   "execution_count": 90,
   "metadata": {},
   "outputs": [
    {
     "data": {
      "text/plain": [
       "count       118\n",
       "unique        3\n",
       "top       basic\n",
       "freq         53\n",
       "Name: option, dtype: object"
      ]
     },
     "execution_count": 90,
     "metadata": {},
     "output_type": "execute_result"
    }
   ],
   "source": [
    "df[df.family == 'single'].option.describe()"
   ]
  },
  {
   "cell_type": "code",
   "execution_count": 93,
   "metadata": {},
   "outputs": [
    {
     "data": {
      "image/png": "[encoded data removed]",
      "text/plain": [
       "<Figure size 864x432 with 1 Axes>"
      ]
     },
     "metadata": {},
     "output_type": "display_data"
    }
   ],
   "source": [
    "# Barplot with feedback for families\n",
    "\n",
    "# Feedback distribution with split on nudge data\n",
    "sns.set(style=\"whitegrid\")\n",
    "\n",
    "# Draw a nested barplot to feedback based on nudge\n",
    "g = sns.countplot(x=\"option\", hue=\"nudge\",data=df[df.family=='family'],)\n"
   ]
  },
  {
   "cell_type": "code",
   "execution_count": 94,
   "metadata": {},
   "outputs": [
    {
     "data": {
      "image/png": "[encoded data removed]",
      "text/plain": [
       "<Figure size 864x432 with 1 Axes>"
      ]
     },
     "metadata": {},
     "output_type": "display_data"
    }
   ],
   "source": [
    "# Barplot with feedback for singles\n",
    "\n",
    "# Feedback distribution with split on nudge data\n",
    "sns.set(style=\"whitegrid\")\n",
    "\n",
    "# Draw a nested barplot to feedback based on nudge\n",
    "g = sns.countplot(x=\"option\", hue=\"nudge\",data=df[df.family=='single'],)\n"
   ]
  },
  {
   "cell_type": "markdown",
   "metadata": {},
   "source": [
    "#### Average Treatment Effect"
   ]
  },
  {
   "cell_type": "code",
   "execution_count": 95,
   "metadata": {},
   "outputs": [
    {
     "name": "stdout",
     "output_type": "stream",
     "text": [
      "Average Treatment Effect: 0.5794\n"
     ]
    }
   ],
   "source": [
    "# ATE\n",
    "\n",
    "# Users that provided feedback and have family status: family\n",
    "df_families_with_feedback = df_numeric[(df_numeric.option.notnull()) & (df_numeric.family == 'family')]\n",
    "\n",
    "nudge_group = df_families_with_feedback[df_families_with_feedback.nudge == 1].option\n",
    "no_nudge_group = df_families_with_feedback[df_families_with_feedback.nudge == 0].option\n",
    "\n",
    "mean_nudge =nudge_group.mean()\n",
    "mean_no_nudge = no_nudge_group.mean()\n",
    "\n",
    "ate = mean_nudge - mean_no_nudge\n",
    "print(\"Average Treatment Effect: %.4f\" % ate)"
   ]
  },
  {
   "cell_type": "markdown",
   "metadata": {},
   "source": [
    "In the analysis for this subset the ATE shows a clear positive effect on the user experience if a high threat nudge is displayed. **This shows a significant effect on the tariff option for users that choose the insurance product as a family coverage.**"
   ]
  },
  {
   "cell_type": "markdown",
   "metadata": {},
   "source": [
    "### Mann-Whitney U Test"
   ]
  },
  {
   "cell_type": "code",
   "execution_count": 96,
   "metadata": {
    "scrolled": false
   },
   "outputs": [
    {
     "name": "stdout",
     "output_type": "stream",
     "text": [
      "Statistics=872.00000, p=0.00001\n",
      "Different distribution (reject H0)\n"
     ]
    }
   ],
   "source": [
    "# Non-parametric Mann Whitney U Test\n",
    "import numpy as np\n",
    "import scipy.stats as stats\n",
    "from scipy.stats import mannwhitneyu\n",
    "\n",
    "nudge_family = df_numeric[(df_numeric.nudge == 1) & (df_numeric.family == 'family')].option.array\n",
    "no_nudge_family = df_numeric[(df_numeric.nudge == 0) & (df_numeric.family == 'family')].option.array\n",
    "\n",
    "# compare samples\n",
    "stat, p = mannwhitneyu(nudge_family, no_nudge_family)\n",
    "print('Statistics=%.5f, p=%.5f' % (stat, p))\n",
    "# interpret\n",
    "alpha = 0.05\n",
    "if p > alpha:\n",
    "\tprint('Same distribution (fail to reject H0)')\n",
    "else:\n",
    "\tprint('Different distribution (reject H0)')\n"
   ]
  },
  {
   "cell_type": "markdown",
   "metadata": {},
   "source": [
    "Additionally the Mann-Whitney-U test shows another outcome for the family group. Here, the distribution is different which means **there is a significant effect of the nudge on the chosen tariff option**"
   ]
  },
  {
   "cell_type": "markdown",
   "metadata": {},
   "source": [
    "  "
   ]
  },
  {
   "cell_type": "code",
   "execution_count": null,
   "metadata": {},
   "outputs": [],
   "source": []
  }
 ],
 "metadata": {
  "kernelspec": {
   "display_name": "Python 3",
   "language": "python",
   "name": "python3"
  },
  "language_info": {
   "codemirror_mode": {
    "name": "ipython",
    "version": 3
   },
   "file_extension": ".py",
   "mimetype": "text/x-python",
   "name": "python",
   "nbconvert_exporter": "python",
   "pygments_lexer": "ipython3",
   "version": "3.7.4"
  }
 },
 "nbformat": 4,
 "nbformat_minor": 2
}
