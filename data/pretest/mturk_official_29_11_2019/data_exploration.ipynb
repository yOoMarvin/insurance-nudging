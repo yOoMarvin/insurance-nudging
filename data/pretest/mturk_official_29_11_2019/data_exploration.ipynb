{
 "cells": [
  {
   "cell_type": "markdown",
   "metadata": {},
   "source": [
    "# Pretest"
   ]
  },
  {
   "cell_type": "markdown",
   "metadata": {},
   "source": [
    "This pretest was executed between 29.11.2019 and 02.12.2019. Participants were recruited with the help of Amazon MTurk.\n",
    "\n",
    "**260** users visited the application during those three days. **169** activities resulted in a conversion, which results in a conversion rate of **65%**. In the case of the pretest, conversion means that the user would be interested in further updates of the service and products. Therefore here submitted his / her contact data.\n",
    "\n",
    "This Jupyter Notebook presents essential data exploration and evaluation. This experiment studies the effect of _high threat_ (aggressively framed) informational nudges on the user experience, as well as the chosen tariff option for an online insurance product"
   ]
  },
  {
   "cell_type": "markdown",
   "metadata": {},
   "source": [
    "## Setup"
   ]
  },
  {
   "cell_type": "code",
   "execution_count": 1,
   "metadata": {},
   "outputs": [],
   "source": [
    "# import the libraries\n",
    "import pandas as pd\n",
    "import matplotlib.pyplot as plt\n",
    "import seaborn as sns\n",
    "from pandas.io.json import json_normalize"
   ]
  },
  {
   "cell_type": "code",
   "execution_count": 56,
   "metadata": {
    "scrolled": false
   },
   "outputs": [
    {
     "data": {
      "text/html": [
       "<div>\n",
       "<style scoped>\n",
       "    .dataframe tbody tr th:only-of-type {\n",
       "        vertical-align: middle;\n",
       "    }\n",
       "\n",
       "    .dataframe tbody tr th {\n",
       "        vertical-align: top;\n",
       "    }\n",
       "\n",
       "    .dataframe thead th {\n",
       "        text-align: right;\n",
       "    }\n",
       "</style>\n",
       "<table border=\"1\" class=\"dataframe\">\n",
       "  <thead>\n",
       "    <tr style=\"text-align: right;\">\n",
       "      <th></th>\n",
       "      <th>id</th>\n",
       "      <th>nudge</th>\n",
       "      <th>feedback</th>\n",
       "      <th>option</th>\n",
       "      <th>created</th>\n",
       "    </tr>\n",
       "  </thead>\n",
       "  <tbody>\n",
       "    <tr>\n",
       "      <td>130</td>\n",
       "      <td>lePw694DfmFEz1LaJXq2</td>\n",
       "      <td>0</td>\n",
       "      <td>neutral</td>\n",
       "      <td>basic</td>\n",
       "      <td>2019-11-28T07:25:34.741Z</td>\n",
       "    </tr>\n",
       "    <tr>\n",
       "      <td>34</td>\n",
       "      <td>DP0O1PtwvyRKqgutYWEg</td>\n",
       "      <td>1</td>\n",
       "      <td>neutral</td>\n",
       "      <td>basic</td>\n",
       "      <td>2019-11-29T06:47:39.537Z</td>\n",
       "    </tr>\n",
       "    <tr>\n",
       "      <td>81</td>\n",
       "      <td>W9U7WGiLJxcty1N0qvPn</td>\n",
       "      <td>1</td>\n",
       "      <td>neutral</td>\n",
       "      <td>comfort</td>\n",
       "      <td>2019-11-29T06:49:15.142Z</td>\n",
       "    </tr>\n",
       "    <tr>\n",
       "      <td>159</td>\n",
       "      <td>wFqLdovJ0fEskflQojts</td>\n",
       "      <td>1</td>\n",
       "      <td>neutral</td>\n",
       "      <td>comfort</td>\n",
       "      <td>2019-11-29T06:51:44.217Z</td>\n",
       "    </tr>\n",
       "    <tr>\n",
       "      <td>25</td>\n",
       "      <td>9Bx0H3p1YgFo5BabJVkk</td>\n",
       "      <td>0</td>\n",
       "      <td>happy</td>\n",
       "      <td>basic</td>\n",
       "      <td>2019-11-29T07:03:28.809Z</td>\n",
       "    </tr>\n",
       "  </tbody>\n",
       "</table>\n",
       "</div>"
      ],
      "text/plain": [
       "                       id  nudge feedback   option                   created\n",
       "130  lePw694DfmFEz1LaJXq2      0  neutral    basic  2019-11-28T07:25:34.741Z\n",
       "34   DP0O1PtwvyRKqgutYWEg      1  neutral    basic  2019-11-29T06:47:39.537Z\n",
       "81   W9U7WGiLJxcty1N0qvPn      1  neutral  comfort  2019-11-29T06:49:15.142Z\n",
       "159  wFqLdovJ0fEskflQojts      1  neutral  comfort  2019-11-29T06:51:44.217Z\n",
       "25   9Bx0H3p1YgFo5BabJVkk      0    happy    basic  2019-11-29T07:03:28.809Z"
      ]
     },
     "execution_count": 56,
     "metadata": {},
     "output_type": "execute_result"
    }
   ],
   "source": [
    "# import the data\n",
    "firestore_data = pd.read_json(\"./firestore.json\")\n",
    "df = firestore_data\n",
    "\n",
    "# import prepared data with only numeric values. Needed for calculations\n",
    "df_numeric = pd.read_json(\"./firestore_numbers.json\")\n",
    "\n",
    "# import survey data\n",
    "survey_data = pd.read_csv(\"./survey.csv\")\n",
    "\n",
    "# sort dataframe by date\n",
    "df = df.sort_values(by=['created'])\n",
    "\n",
    "# print first five rows\n",
    "df.head(5)"
   ]
  },
  {
   "cell_type": "markdown",
   "metadata": {},
   "source": [
    "# Demographics\n",
    "To capture additional demographic data, the participants were asked to fill out a post survey. This survey got 124 valid answers.\n",
    "\n"
   ]
  },
  {
   "cell_type": "code",
   "execution_count": 15,
   "metadata": {},
   "outputs": [
    {
     "data": {
      "text/plain": [
       "124"
      ]
     },
     "execution_count": 15,
     "metadata": {},
     "output_type": "execute_result"
    }
   ],
   "source": [
    "# drop duplicates\n",
    "survey_data = survey_data.drop_duplicates(subset=\"mturk_id\")\n",
    "\n",
    "len(survey_data)"
   ]
  },
  {
   "cell_type": "markdown",
   "metadata": {},
   "source": [
    "## Age"
   ]
  },
  {
   "cell_type": "code",
   "execution_count": 25,
   "metadata": {},
   "outputs": [
    {
     "data": {
      "text/plain": [
       "18 - 29    51\n",
       "30 - 39    45\n",
       "40 - 49    14\n",
       "> 50       14\n",
       "Name: age, dtype: int64"
      ]
     },
     "execution_count": 25,
     "metadata": {},
     "output_type": "execute_result"
    }
   ],
   "source": [
    "survey_data.age.value_counts()"
   ]
  },
  {
   "cell_type": "code",
   "execution_count": 35,
   "metadata": {},
   "outputs": [
    {
     "data": {
      "image/png": "[encoded data removed]",
      "text/plain": [
       "<Figure size 432x288 with 1 Axes>"
      ]
     },
     "metadata": {},
     "output_type": "display_data"
    }
   ],
   "source": [
    "# Data to plot\n",
    "labels = '18-29', '30-39', '40-49', '>50'\n",
    "sizes = [51, 45, 14, 14]\n",
    "\n",
    "# Plot\n",
    "plt.pie(sizes, labels=labels,autopct='%1.1f%%', shadow=True, startangle=140)\n",
    "\n",
    "plt.axis('equal')\n",
    "plt.show()"
   ]
  },
  {
   "cell_type": "markdown",
   "metadata": {},
   "source": [
    "## Gender"
   ]
  },
  {
   "cell_type": "code",
   "execution_count": 27,
   "metadata": {},
   "outputs": [
    {
     "data": {
      "text/plain": [
       "Male      63\n",
       "Female    60\n",
       "Trans      1\n",
       "Name: gender, dtype: int64"
      ]
     },
     "execution_count": 27,
     "metadata": {},
     "output_type": "execute_result"
    }
   ],
   "source": [
    "survey_data.gender.value_counts()"
   ]
  },
  {
   "cell_type": "code",
   "execution_count": 34,
   "metadata": {},
   "outputs": [
    {
     "data": {
      "image/png": "[encoded data removed]",
      "text/plain": [
       "<Figure size 432x288 with 1 Axes>"
      ]
     },
     "metadata": {},
     "output_type": "display_data"
    }
   ],
   "source": [
    "# Data to plot\n",
    "labels = 'Male', 'Female', 'Trans'\n",
    "sizes = [63, 60, 1]\n",
    "\n",
    "# Plot\n",
    "plt.pie(sizes, labels=labels,autopct='%1.1f%%', shadow=True, startangle=140)\n",
    "\n",
    "plt.axis('equal')\n",
    "plt.show()"
   ]
  },
  {
   "cell_type": "markdown",
   "metadata": {},
   "source": [
    "## Education"
   ]
  },
  {
   "cell_type": "code",
   "execution_count": 31,
   "metadata": {},
   "outputs": [
    {
     "data": {
      "text/plain": [
       "4-year College Degree    46\n",
       "Masters Degree           34\n",
       "Some College             21\n",
       "High School / GED        13\n",
       "2-year College Degree     7\n",
       "Professional Degree       3\n",
       "Name: education, dtype: int64"
      ]
     },
     "execution_count": 31,
     "metadata": {},
     "output_type": "execute_result"
    }
   ],
   "source": [
    "survey_data.education.value_counts()"
   ]
  },
  {
   "cell_type": "code",
   "execution_count": 33,
   "metadata": {
    "scrolled": true
   },
   "outputs": [
    {
     "data": {
      "image/png": "[encoded data removed]",
      "text/plain": [
       "<Figure size 432x288 with 1 Axes>"
      ]
     },
     "metadata": {},
     "output_type": "display_data"
    }
   ],
   "source": [
    "# Data to plot\n",
    "labels = '4-year College Degree', 'Masters Degree', 'Some College', 'High School / GED', '2-year College Degree', 'Professional Degree' \n",
    "sizes = [46, 34, 21, 13,7,3]\n",
    "\n",
    "# Plot\n",
    "plt.pie(sizes, labels=labels, autopct='%1.1f%%', shadow=True, startangle=140)\n",
    "plt.axis('equal')\n",
    "plt.show()"
   ]
  },
  {
   "cell_type": "markdown",
   "metadata": {},
   "source": [
    "# General Data Description"
   ]
  },
  {
   "cell_type": "markdown",
   "metadata": {},
   "source": [
    "### Dataset Description\n",
    "The dataset includes 178 entries of users during the timespan of the pretest. All those users have chosen one of the three tariff options and provided feedback. Overall, 260 unique users visited the website, where 82 users (31,5%) left the website during the choice process. That means none of the options was in the interest of the user. \n",
    "\n",
    "The remaining 178 users provided their feedback. \n",
    "Out of those 178 users, 169 stated that there were interested in further updates of the service and therefore submitted contact information."
   ]
  },
  {
   "cell_type": "code",
   "execution_count": 10,
   "metadata": {},
   "outputs": [
    {
     "data": {
      "text/plain": [
       "178"
      ]
     },
     "execution_count": 10,
     "metadata": {},
     "output_type": "execute_result"
    }
   ],
   "source": [
    "len(df)"
   ]
  },
  {
   "cell_type": "markdown",
   "metadata": {},
   "source": [
    "### Treatment Split and Cancellations\n",
    "The visitors of the website have been confronted with the nudge in 50% of the time. Out of the 82 users that made no decisions and left the website, 40 users that got the nudge and left. 42 users that visited the website without a nudge left the website and made no decision.\n",
    "\n",
    "Since 82 of the users left the website before the capturing of the feedback, the balance between treatment, and no treatment is not truly 50/50 in the dataset.\n",
    "\n",
    "The dataset includes the feedback of 90 users that visited the page with the nudge and 88 users who visited the website without a nudge."
   ]
  },
  {
   "cell_type": "code",
   "execution_count": 11,
   "metadata": {},
   "outputs": [
    {
     "data": {
      "text/plain": [
       "1    90\n",
       "0    88\n",
       "Name: nudge, dtype: int64"
      ]
     },
     "execution_count": 11,
     "metadata": {},
     "output_type": "execute_result"
    }
   ],
   "source": [
    "df.nudge.value_counts()"
   ]
  },
  {
   "cell_type": "markdown",
   "metadata": {},
   "source": [
    "### Chosen Tariff Option\n",
    "In terms of the chosen tariff option, the _basic_ option is the most popular. 42,2% of the users favored the minimal amount of security. Interestingly, the second most popular option is the complete contrary, the _top_ option. This option is the most expensive one and covers almost every situation.\n",
    "\n",
    "The _comfort_ tariff, which represents the middle option, was the least chosen. That fact speaks for the existing decision anomalies in insurance product decisions. Usually, the middle option bias tends to present the middle option as the most popular. This shows the first effect of the treatment (nudge)."
   ]
  },
  {
   "cell_type": "code",
   "execution_count": 3,
   "metadata": {},
   "outputs": [
    {
     "data": {
      "text/plain": [
       "basic      83\n",
       "top        51\n",
       "comfort    44\n",
       "Name: option, dtype: int64"
      ]
     },
     "execution_count": 3,
     "metadata": {},
     "output_type": "execute_result"
    }
   ],
   "source": [
    "df.option.value_counts()"
   ]
  },
  {
   "cell_type": "markdown",
   "metadata": {},
   "source": [
    "### User Experience and Feedback\n",
    "Overall, most of the users are _happy_ with the experience of the website. Only a small part has described their experience as _bad_. Besides the effect of the nudge, one primary reason could be the visual appealing of the site. In comparison to other insurance company, the information and focus was very clear and straightforward, which could lead to an overall, more satisfying user experience. "
   ]
  },
  {
   "cell_type": "code",
   "execution_count": 14,
   "metadata": {},
   "outputs": [
    {
     "data": {
      "text/plain": [
       "happy      106\n",
       "neutral     58\n",
       "sad         14\n",
       "Name: feedback, dtype: int64"
      ]
     },
     "execution_count": 14,
     "metadata": {},
     "output_type": "execute_result"
    }
   ],
   "source": [
    "# most chosen feedback, least chose, average\n",
    "df.feedback.value_counts()"
   ]
  },
  {
   "cell_type": "markdown",
   "metadata": {},
   "source": [
    "# Effect of Nudging on Customer Experience (feedback)"
   ]
  },
  {
   "cell_type": "code",
   "execution_count": 41,
   "metadata": {},
   "outputs": [],
   "source": [
    "# mapping of feedback to ordinal category\n",
    "from pandas.api.types import CategoricalDtype\n",
    "\n",
    "ordered_feedback = ['sad', 'neutral', 'happy']\n",
    "df.feedback = df.feedback.astype(CategoricalDtype(ordered=True,categories=ordered_feedback))"
   ]
  },
  {
   "cell_type": "markdown",
   "metadata": {},
   "source": [
    "### Distribution of Data\n",
    "If one looks at the distribution of the data concerning the treatment, no significant differences are noticeable. The distribution of different feedback values is almost balanced. The swarm plot below shows this observation in a visual way."
   ]
  },
  {
   "cell_type": "code",
   "execution_count": 54,
   "metadata": {},
   "outputs": [
    {
     "data": {
      "text/plain": [
       "nudge  feedback\n",
       "0      happy       52\n",
       "       neutral     30\n",
       "       sad          6\n",
       "1      happy       54\n",
       "       neutral     28\n",
       "       sad          8\n",
       "Name: feedback, dtype: int64"
      ]
     },
     "execution_count": 54,
     "metadata": {},
     "output_type": "execute_result"
    }
   ],
   "source": [
    "# group data by nudge\n",
    "nudge_group = df.groupby(\"nudge\")\n",
    "nudge_group.feedback.value_counts()"
   ]
  },
  {
   "cell_type": "code",
   "execution_count": 48,
   "metadata": {},
   "outputs": [
    {
     "data": {
      "text/plain": [
       "<matplotlib.axes._subplots.AxesSubplot at 0x1a175ed290>"
      ]
     },
     "execution_count": 48,
     "metadata": {},
     "output_type": "execute_result"
    },
    {
     "data": {
      "image/png": "[encoded data removed]",
      "text/plain": [
       "<Figure size 864x576 with 1 Axes>"
      ]
     },
     "metadata": {
      "needs_background": "light"
     },
     "output_type": "display_data"
    }
   ],
   "source": [
    "# swarmplot\n",
    "plt.figure(figsize=(12, 8))\n",
    "sns.swarmplot(x=df['nudge'], y=df['feedback'])"
   ]
  },
  {
   "cell_type": "markdown",
   "metadata": {},
   "source": [
    "### Average Treatment Effect"
   ]
  },
  {
   "cell_type": "code",
   "execution_count": 82,
   "metadata": {},
   "outputs": [
    {
     "name": "stdout",
     "output_type": "stream",
     "text": [
      "Average Treatment Effect: -0.0116\n"
     ]
    }
   ],
   "source": [
    "# ATE\n",
    "nudge_group = df_numeric[df_numeric.nudge == 1].feedback\n",
    "no_nudge_group = df_numeric[df_numeric.nudge == 0].feedback\n",
    "\n",
    "mean_nudge =nudge_group.mean()\n",
    "mean_no_nudge = no_nudge_group.mean()\n",
    "\n",
    "ate = mean_nudge - mean_no_nudge\n",
    "print(\"Average Treatment Effect: %.4f\" % ate)"
   ]
  },
  {
   "cell_type": "markdown",
   "metadata": {},
   "source": [
    "The negative ATE shows a negative effect on the user experience if a high threat nudge is displayed. Interestingly this negative effect is very low and, therefore, not significant."
   ]
  },
  {
   "cell_type": "markdown",
   "metadata": {},
   "source": [
    "### Mann-Withney-U Test\n",
    "Since the values in the dataset are not normally distributed, a Mann-Withney-U Test is suitable to study the effect of the treatment. In this case, the null hypothesis H0 assumes that the nudge will not affect the user experience."
   ]
  },
  {
   "cell_type": "code",
   "execution_count": 88,
   "metadata": {},
   "outputs": [
    {
     "name": "stdout",
     "output_type": "stream",
     "text": [
      "Statistics=3960.000, p=0.499\n",
      "Same distribution (fail to reject H0)\n"
     ]
    }
   ],
   "source": [
    "# Non-parametric Mann Whitney U Test\n",
    "import numpy as np\n",
    "import scipy.stats as stats\n",
    "from scipy.stats import mannwhitneyu\n",
    "\n",
    "nudge = df[df.nudge == 1].feedback.array\n",
    "no_nudge = df[df.nudge == 0].feedback.array\n",
    "\n",
    "# compare samples\n",
    "stat, p = mannwhitneyu(nudge, no_nudge)\n",
    "print('Statistics=%.3f, p=%.3f' % (stat, p))\n",
    "# interpret\n",
    "alpha = 0.05\n",
    "if p > alpha:\n",
    "\tprint('Same distribution (fail to reject H0)')\n",
    "else:\n",
    "\tprint('Different distribution (reject H0)')\n"
   ]
  },
  {
   "cell_type": "markdown",
   "metadata": {},
   "source": [
    "# Effect of Nudging on Chosen Tariff Option (option)"
   ]
  },
  {
   "cell_type": "code",
   "execution_count": 89,
   "metadata": {},
   "outputs": [],
   "source": [
    "# mapping of option to ordinal category\n",
    "from pandas.api.types import CategoricalDtype\n",
    "\n",
    "ordered_option = ['basic', 'comfort', 'top']\n",
    "df.option = df.option.astype(CategoricalDtype(ordered=True,categories=ordered_option))"
   ]
  },
  {
   "cell_type": "markdown",
   "metadata": {},
   "source": [
    "### Distribution of Data\n",
    "The distribution of the data concerning the treatment, no significant differences are noticeable. The differently chose tariff options are almost balanced. The swarm plot below shows this observation in a visual way."
   ]
  },
  {
   "cell_type": "code",
   "execution_count": 90,
   "metadata": {},
   "outputs": [
    {
     "data": {
      "text/plain": [
       "nudge  option \n",
       "0      basic      44\n",
       "       top        23\n",
       "       comfort    21\n",
       "1      basic      39\n",
       "       top        28\n",
       "       comfort    23\n",
       "Name: option, dtype: int64"
      ]
     },
     "execution_count": 90,
     "metadata": {},
     "output_type": "execute_result"
    }
   ],
   "source": [
    "# group data by nudge\n",
    "nudge_group = df.groupby(\"nudge\")\n",
    "nudge_group.option.value_counts()"
   ]
  },
  {
   "cell_type": "code",
   "execution_count": 91,
   "metadata": {},
   "outputs": [
    {
     "data": {
      "text/plain": [
       "<matplotlib.axes._subplots.AxesSubplot at 0x1a1799dd50>"
      ]
     },
     "execution_count": 91,
     "metadata": {},
     "output_type": "execute_result"
    },
    {
     "data": {
      "image/png": "[encoded data removed]",
      "text/plain": [
       "<Figure size 864x576 with 1 Axes>"
      ]
     },
     "metadata": {
      "needs_background": "light"
     },
     "output_type": "display_data"
    }
   ],
   "source": [
    "# swarmplot\n",
    "plt.figure(figsize=(12, 8))\n",
    "sns.swarmplot(x=df['nudge'], y=df['option'])"
   ]
  },
  {
   "cell_type": "markdown",
   "metadata": {},
   "source": [
    "### Average Treatment Effect"
   ]
  },
  {
   "cell_type": "code",
   "execution_count": 92,
   "metadata": {},
   "outputs": [
    {
     "name": "stdout",
     "output_type": "stream",
     "text": [
      "Average Treatment Effect: 0.1164\n"
     ]
    }
   ],
   "source": [
    "# ATE\n",
    "nudge_group = df_numeric[df_numeric.nudge == 1].option\n",
    "no_nudge_group = df_numeric[df_numeric.nudge == 0].option\n",
    "\n",
    "mean_nudge =nudge_group.mean()\n",
    "mean_no_nudge = no_nudge_group.mean()\n",
    "\n",
    "ate = mean_nudge - mean_no_nudge\n",
    "print(\"Average Treatment Effect: %.4f\" % ate)"
   ]
  },
  {
   "cell_type": "markdown",
   "metadata": {},
   "source": [
    "In contrast to the feedback, the treatment shows a positive average effect on the tariff option if a high threat nudge is displayed. Therefore there is a tendency that more expensive options with broader coverage are chosen. As before, the effect is very low and, therefore, not significant."
   ]
  },
  {
   "cell_type": "markdown",
   "metadata": {},
   "source": [
    "### Mann-Withney-U Test\n",
    "Since the values in the dataset are not normally distributed, a Mann-Withney-U Test is suitable to study the effect of the treatment. In this case, the null hypothesis H0 assumes that the nudge will not affect the choice in tariff options."
   ]
  },
  {
   "cell_type": "code",
   "execution_count": 93,
   "metadata": {},
   "outputs": [
    {
     "name": "stdout",
     "output_type": "stream",
     "text": [
      "Statistics=3666.500, p=0.179\n",
      "Same distribution (fail to reject H0)\n"
     ]
    }
   ],
   "source": [
    "# Non-parametric Mann Whitney U Test\n",
    "import numpy as np\n",
    "import scipy.stats as stats\n",
    "from scipy.stats import mannwhitneyu\n",
    "\n",
    "nudge = df[df.nudge == 1].option.array\n",
    "no_nudge = df[df.nudge == 0].option.array\n",
    "\n",
    "# compare samples\n",
    "stat, p = mannwhitneyu(nudge, no_nudge)\n",
    "print('Statistics=%.3f, p=%.3f' % (stat, p))\n",
    "# interpret\n",
    "alpha = 0.05\n",
    "if p > alpha:\n",
    "\tprint('Same distribution (fail to reject H0)')\n",
    "else:\n",
    "\tprint('Different distribution (reject H0)')\n"
   ]
  }
 ],
 "metadata": {
  "kernelspec": {
   "display_name": "Python 3",
   "language": "python",
   "name": "python3"
  },
  "language_info": {
   "codemirror_mode": {
    "name": "ipython",
    "version": 3
   },
   "file_extension": ".py",
   "mimetype": "text/x-python",
   "name": "python",
   "nbconvert_exporter": "python",
   "pygments_lexer": "ipython3",
   "version": "3.7.4"
  }
 },
 "nbformat": 4,
 "nbformat_minor": 2
}
