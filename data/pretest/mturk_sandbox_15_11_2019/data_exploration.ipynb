{
 "cells": [
  {
   "cell_type": "markdown",
   "metadata": {},
   "source": [
    "# Sandbox Experiment - 15.11.2019"
   ]
  },
  {
   "cell_type": "markdown",
   "metadata": {},
   "source": [
    "This pretest was done to test the tracking features of the application. Participants were recruited with the help of MTurk. The HIT was 6 hours online.\n",
    "36 users visited the application during those 6 hours. With the additional 33 users from the experiment before this makes a total of 69 users. 54 activities resulted in a conversion."
   ]
  },
  {
   "cell_type": "markdown",
   "metadata": {},
   "source": [
    "## Data Exploration"
   ]
  },
  {
   "cell_type": "code",
   "execution_count": 2,
   "metadata": {},
   "outputs": [],
   "source": [
    "# import the libraries\n",
    "import pandas as pd\n",
    "import matplotlib.pyplot as plt\n",
    "import seaborn as sns\n",
    "from pandas.io.json import json_normalize"
   ]
  },
  {
   "cell_type": "code",
   "execution_count": 3,
   "metadata": {},
   "outputs": [
    {
     "data": {
      "text/html": [
       "<div>\n",
       "<style scoped>\n",
       "    .dataframe tbody tr th:only-of-type {\n",
       "        vertical-align: middle;\n",
       "    }\n",
       "\n",
       "    .dataframe tbody tr th {\n",
       "        vertical-align: top;\n",
       "    }\n",
       "\n",
       "    .dataframe thead th {\n",
       "        text-align: right;\n",
       "    }\n",
       "</style>\n",
       "<table border=\"1\" class=\"dataframe\">\n",
       "  <thead>\n",
       "    <tr style=\"text-align: right;\">\n",
       "      <th></th>\n",
       "      <th>feedback.stringValue</th>\n",
       "      <th>created.timestampValue</th>\n",
       "      <th>option.stringValue</th>\n",
       "      <th>nudgelevel.integerValue</th>\n",
       "    </tr>\n",
       "  </thead>\n",
       "  <tbody>\n",
       "    <tr>\n",
       "      <td>0</td>\n",
       "      <td>happy</td>\n",
       "      <td>2019-11-15T13:29:25.962Z</td>\n",
       "      <td>comfort</td>\n",
       "      <td>2</td>\n",
       "    </tr>\n",
       "    <tr>\n",
       "      <td>1</td>\n",
       "      <td>happy</td>\n",
       "      <td>2019-11-15T16:22:02.581Z</td>\n",
       "      <td>basic</td>\n",
       "      <td>2</td>\n",
       "    </tr>\n",
       "    <tr>\n",
       "      <td>2</td>\n",
       "      <td>happy</td>\n",
       "      <td>2019-11-13T11:45:43.858Z</td>\n",
       "      <td>basic</td>\n",
       "      <td>2</td>\n",
       "    </tr>\n",
       "    <tr>\n",
       "      <td>3</td>\n",
       "      <td>happy</td>\n",
       "      <td>2019-11-13T11:24:51.589Z</td>\n",
       "      <td>top</td>\n",
       "      <td>1</td>\n",
       "    </tr>\n",
       "    <tr>\n",
       "      <td>4</td>\n",
       "      <td>neutral</td>\n",
       "      <td>2019-11-13T10:51:39.540Z</td>\n",
       "      <td>comfort</td>\n",
       "      <td>0</td>\n",
       "    </tr>\n",
       "  </tbody>\n",
       "</table>\n",
       "</div>"
      ],
      "text/plain": [
       "  feedback.stringValue    created.timestampValue option.stringValue  \\\n",
       "0                happy  2019-11-15T13:29:25.962Z            comfort   \n",
       "1                happy  2019-11-15T16:22:02.581Z              basic   \n",
       "2                happy  2019-11-13T11:45:43.858Z              basic   \n",
       "3                happy  2019-11-13T11:24:51.589Z                top   \n",
       "4              neutral  2019-11-13T10:51:39.540Z            comfort   \n",
       "\n",
       "  nudgelevel.integerValue  \n",
       "0                       2  \n",
       "1                       2  \n",
       "2                       2  \n",
       "3                       1  \n",
       "4                       0  "
      ]
     },
     "execution_count": 3,
     "metadata": {},
     "output_type": "execute_result"
    }
   ],
   "source": [
    "# import the data\n",
    "activities_data = pd.read_json(\"./firestore_activities.json\")\n",
    "events_data = pd.read_csv(\"./events.csv\")\n",
    "\n",
    "#extract only name and fields\n",
    "df = activities_data[[\"name\", \"fields\"]]\n",
    "normalized = json_normalize(data=df['fields'])\n",
    "normalized.head(5)"
   ]
  },
  {
   "cell_type": "code",
   "execution_count": 13,
   "metadata": {},
   "outputs": [
    {
     "data": {
      "text/html": [
       "<div>\n",
       "<style scoped>\n",
       "    .dataframe tbody tr th:only-of-type {\n",
       "        vertical-align: middle;\n",
       "    }\n",
       "\n",
       "    .dataframe tbody tr th {\n",
       "        vertical-align: top;\n",
       "    }\n",
       "\n",
       "    .dataframe thead th {\n",
       "        text-align: right;\n",
       "    }\n",
       "</style>\n",
       "<table border=\"1\" class=\"dataframe\">\n",
       "  <thead>\n",
       "    <tr style=\"text-align: right;\">\n",
       "      <th></th>\n",
       "      <th>feedback.stringValue</th>\n",
       "      <th>created.timestampValue</th>\n",
       "      <th>option.stringValue</th>\n",
       "      <th>nudgelevel.integerValue</th>\n",
       "      <th>feedback_label</th>\n",
       "      <th>option_label</th>\n",
       "    </tr>\n",
       "  </thead>\n",
       "  <tbody>\n",
       "    <tr>\n",
       "      <td>0</td>\n",
       "      <td>happy</td>\n",
       "      <td>2019-11-15T13:29:25.962Z</td>\n",
       "      <td>comfort</td>\n",
       "      <td>2</td>\n",
       "      <td>2</td>\n",
       "      <td>2</td>\n",
       "    </tr>\n",
       "    <tr>\n",
       "      <td>1</td>\n",
       "      <td>happy</td>\n",
       "      <td>2019-11-15T16:22:02.581Z</td>\n",
       "      <td>basic</td>\n",
       "      <td>2</td>\n",
       "      <td>2</td>\n",
       "      <td>3</td>\n",
       "    </tr>\n",
       "    <tr>\n",
       "      <td>2</td>\n",
       "      <td>happy</td>\n",
       "      <td>2019-11-13T11:45:43.858Z</td>\n",
       "      <td>basic</td>\n",
       "      <td>2</td>\n",
       "      <td>2</td>\n",
       "      <td>3</td>\n",
       "    </tr>\n",
       "    <tr>\n",
       "      <td>3</td>\n",
       "      <td>happy</td>\n",
       "      <td>2019-11-13T11:24:51.589Z</td>\n",
       "      <td>top</td>\n",
       "      <td>1</td>\n",
       "      <td>2</td>\n",
       "      <td>1</td>\n",
       "    </tr>\n",
       "    <tr>\n",
       "      <td>4</td>\n",
       "      <td>neutral</td>\n",
       "      <td>2019-11-13T10:51:39.540Z</td>\n",
       "      <td>comfort</td>\n",
       "      <td>0</td>\n",
       "      <td>1</td>\n",
       "      <td>2</td>\n",
       "    </tr>\n",
       "  </tbody>\n",
       "</table>\n",
       "</div>"
      ],
      "text/plain": [
       "  feedback.stringValue    created.timestampValue option.stringValue  \\\n",
       "0                happy  2019-11-15T13:29:25.962Z            comfort   \n",
       "1                happy  2019-11-15T16:22:02.581Z              basic   \n",
       "2                happy  2019-11-13T11:45:43.858Z              basic   \n",
       "3                happy  2019-11-13T11:24:51.589Z                top   \n",
       "4              neutral  2019-11-13T10:51:39.540Z            comfort   \n",
       "\n",
       "  nudgelevel.integerValue  feedback_label  option_label  \n",
       "0                       2               2             2  \n",
       "1                       2               2             3  \n",
       "2                       2               2             3  \n",
       "3                       1               2             1  \n",
       "4                       0               1             2  "
      ]
     },
     "execution_count": 13,
     "metadata": {},
     "output_type": "execute_result"
    }
   ],
   "source": [
    "# rank the string values on a integer value\n",
    "df = normalized\n",
    "\n",
    "normalized[\"feedback_label\"] = df[\"feedback.stringValue\"].rank(method=\"dense\", ascending=False).astype(int)\n",
    "normalized[\"option_label\"] = df[\"option.stringValue\"].rank(method=\"dense\", ascending=False).astype(int)\n",
    "\n",
    "\n",
    "df.head()\n",
    "#df[[\"nudgelevel.integerValue\", \"feedback_label\", \"option_label\"]].head(5)"
   ]
  },
  {
   "cell_type": "code",
   "execution_count": 12,
   "metadata": {},
   "outputs": [],
   "source": [
    "# swarm plot to see the feedback based on the nudgelevel\n",
    "#sns.swarmplot(x=normalized['nudgelevel.integerValue'], y=normalized['feedback.stringValue'])"
   ]
  },
  {
   "cell_type": "code",
   "execution_count": 7,
   "metadata": {},
   "outputs": [],
   "source": [
    "# swarm plot to see the tariff option based on the nudgelevel\n",
    "#sns.swarmplot(y=normalized['option.stringValue'], x=normalized['nudgelevel.integerValue'])"
   ]
  },
  {
   "cell_type": "code",
   "execution_count": null,
   "metadata": {},
   "outputs": [],
   "source": []
  }
 ],
 "metadata": {
  "kernelspec": {
   "display_name": "Python 3",
   "language": "python",
   "name": "python3"
  },
  "language_info": {
   "codemirror_mode": {
    "name": "ipython",
    "version": 3
   },
   "file_extension": ".py",
   "mimetype": "text/x-python",
   "name": "python",
   "nbconvert_exporter": "python",
   "pygments_lexer": "ipython3",
   "version": "3.7.4"
  }
 },
 "nbformat": 4,
 "nbformat_minor": 2
}
